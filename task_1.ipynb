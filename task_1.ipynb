{
  "nbformat": 4,
  "nbformat_minor": 0,
  "metadata": {
    "colab": {
      "provenance": [],
      "authorship_tag": "ABX9TyOInLCQjehUpQCZFk/MqRg9",
      "include_colab_link": true
    },
    "kernelspec": {
      "name": "python3",
      "display_name": "Python 3"
    },
    "language_info": {
      "name": "python"
    }
  },
  "cells": [
    {
      "cell_type": "markdown",
      "metadata": {
        "id": "view-in-github",
        "colab_type": "text"
      },
      "source": [
        "<a href=\"https://colab.research.google.com/github/Vaani64/ARKA_TASK_1/blob/main/task_1.ipynb\" target=\"_parent\"><img src=\"https://colab.research.google.com/assets/colab-badge.svg\" alt=\"Open In Colab\"/></a>"
      ]
    },
    {
      "cell_type": "code",
      "execution_count": 1,
      "metadata": {
        "colab": {
          "base_uri": "https://localhost:8080/"
        },
        "id": "GARAJ_3AOzHP",
        "outputId": "37f988bc-a543-46f1-8f29-6dc188dc8d54"
      },
      "outputs": [
        {
          "output_type": "stream",
          "name": "stdout",
          "text": [
            "Original User Data:\n",
            "[{'age': 25, 'name': 'neha'},\n",
            " {'age': 17, 'name': 'charlie'},\n",
            " {'age': 18, 'name': 'diana'},\n",
            " {'age': 30, 'name': 'shreya'},\n",
            " {'age': 12, 'name': 'vivian'},\n",
            " {'age': 45, 'name': 'rahul'}]\n",
            "\n",
            "Names of users older than 18 (Result from main function):\n",
            "['neha', 'shreya', 'rahul']\n",
            "\n",
            "Concise result validation (List comprehension version):\n",
            "['neha', 'shreya', 'rahul']\n"
          ]
        }
      ],
      "source": [
        "from typing import List, Dict, Any\n",
        "\n",
        "# This function checks a list of users and returns the names of those over 18.\n",
        "def get_adult_names(user_list: List[Dict[str, Any]]) -> List[str]:\n",
        "    adult_names = []\n",
        "\n",
        "    # Iterate through the list to check each user's age\n",
        "    for user in user_list:\n",
        "        # Check if age is greater than 18. We use .get() for safety against missing 'age' key.\n",
        "        if user.get('age', 0) > 18:\n",
        "            adult_names.append(user.get('name', 'Unknown User'))\n",
        "\n",
        "    return adult_names\n",
        "\n",
        "# --- Sample Data for Testing ---\n",
        "users_data = [\n",
        "    {\"name\": \"neha\", \"age\": 25},\n",
        "    {\"name\": \"charlie\", \"age\": 17},\n",
        "    {\"name\": \"diana\", \"age\": 18},\n",
        "    {\"name\": \"shreya\", \"age\": 30},\n",
        "    {\"name\": \"vivian\", \"age\": 12},\n",
        "    {\"name\": \"rahul\", \"age\": 45}\n",
        "]\n",
        "\n",
        "print(\"Original User Data:\")\n",
        "import pprint\n",
        "pprint.pprint(users_data)\n",
        "\n",
        "# Run the primary function\n",
        "names_of_adults = get_adult_names(users_data)\n",
        "\n",
        "print(\"\\nNames of users older than 18 (Result from main function):\")\n",
        "print(names_of_adults)\n",
        "\n",
        "# This is a shorter, Pythonic version using a list comprehension.\n",
        "def get_adult_names_concise(user_list: List[Dict[str, Any]]) -> List[str]:\n",
        "    return [\n",
        "        user[\"name\"]\n",
        "        for user in user_list\n",
        "        if user.get(\"age\", 0) > 18\n",
        "    ]\n",
        "\n",
        "# Run the concise version for comparison\n",
        "concise_names = get_adult_names_concise(users_data)\n",
        "print(\"\\nConcise result validation (List comprehension version):\")\n",
        "print(concise_names)"
      ]
    }
  ]
}